{
  "nbformat": 4,
  "nbformat_minor": 0,
  "metadata": {
    "colab": {
      "name": "digit-classifier.ipynb",
      "provenance": [],
      "collapsed_sections": [
        "b8RjGGsBNViZ",
        "rTCGDBj1NVid",
        "pXOZBYWhNVig"
      ]
    },
    "interpreter": {
      "hash": "32ee993759a3779259f6a209bc77407797f20b4ad1f2e949d165c2780a488203"
    },
    "kernelspec": {
      "display_name": "Python 3.9.6 64-bit",
      "name": "python3"
    },
    "language_info": {
      "codemirror_mode": {
        "name": "ipython",
        "version": 3
      },
      "file_extension": ".py",
      "mimetype": "text/x-python",
      "name": "python",
      "nbconvert_exporter": "python",
      "pygments_lexer": "ipython3",
      "version": "3.9.6"
    },
    "accelerator": "GPU"
  },
  "cells": [
    {
      "cell_type": "code",
      "metadata": {
        "id": "HB_kgT9VNViV"
      },
      "source": [
        "import torch\n",
        "from torch import nn, optim\n",
        "from torchvision import datasets, models, transforms\n",
        "from torch.utils.data import DataLoader\n",
        "from sklearn.metrics import classification_report, confusion_matrix, ConfusionMatrixDisplay\n",
        "\n",
        "from PIL import Image\n",
        "import os\n",
        "import matplotlib.pyplot as plt\n",
        "import pandas as pd\n",
        "import numpy as np\n",
        "import cv2 as cv\n",
        "from tqdm import tqdm"
      ],
      "execution_count": 1,
      "outputs": []
    },
    {
      "cell_type": "code",
      "metadata": {
        "id": "1DoXzPhKNViX",
        "colab": {
          "base_uri": "https://localhost:8080/"
        },
        "outputId": "dfe8d1b4-c107-4e61-c72e-5a0f07bf8bb9"
      },
      "source": [
        "device = \"cuda\" if torch.cuda.is_available() else \"cpu\"\n",
        "print(device)\n",
        "\n",
        "# Use this to flag whether to work with the custom dataset or PyTorch's dataset.\n",
        "CUSTOM_DATASET_FLAG = False"
      ],
      "execution_count": 2,
      "outputs": [
        {
          "output_type": "stream",
          "name": "stdout",
          "text": [
            "cuda\n"
          ]
        }
      ]
    },
    {
      "cell_type": "markdown",
      "metadata": {
        "id": "nt9u0ArUQE5T"
      },
      "source": [
        "## Local Dataset Creation\n",
        "\n",
        "The next three cells are used to create a custom PyTorch dataset using the manually downloaded MNIST dataset. This is a useful showcase on how to create a custom dataset class using PyTorch concepts in the form of DataLoaders and transforms. However, if training using Colab, this may not be useful since the files need to be uploaded to the directory. Moreover, PyTorch already has the MNIST dataset under torchvision's datasets subclass."
      ]
    },
    {
      "cell_type": "markdown",
      "metadata": {
        "id": "b8RjGGsBNViZ"
      },
      "source": [
        "### Dataset Inspection"
      ]
    },
    {
      "cell_type": "code",
      "metadata": {
        "id": "P7PIyem6NVib"
      },
      "source": [
        "if CUSTOM_DATASET_FLAG:\n",
        "  training_data_folders = os.listdir(\"dataset/training\")\n",
        "  test_data_folders = os.listdir(\"dataset/testing\")\n",
        "  training_data_count = []\n",
        "  test_data_count = []\n",
        "\n",
        "  for folder in training_data_folders:\n",
        "      folder_count = len(os.listdir(f\"dataset/training/{folder}\"))\n",
        "      training_data_count.append(folder_count)\n",
        "\n",
        "  for folder in test_data_folders:\n",
        "      folder_count = len(os.listdir(f\"dataset/testing/{folder}\"))\n",
        "      test_data_count.append(folder_count)\n",
        "\n",
        "  figure = plt.figure(figsize=(10,10))\n",
        "\n",
        "  plt.subplot(2,1,1)\n",
        "  plt.title(\"Training Data Summary\")\n",
        "  plt.bar(training_data_folders, training_data_count)\n",
        "\n",
        "  plt.subplot(2,1,2)\n",
        "  plt.title(\"Test Data Summary\")\n",
        "  plt.bar(test_data_folders, test_data_count)\n",
        "\n",
        "  plt.show()\n",
        "\n",
        "  print(f\"Total Training Data: {sum(training_data_count)}\")\n",
        "  print(f\"Total Test Data: {sum(test_data_count)}\")"
      ],
      "execution_count": 3,
      "outputs": []
    },
    {
      "cell_type": "markdown",
      "metadata": {
        "id": "rTCGDBj1NVid"
      },
      "source": [
        "### Data Loading"
      ]
    },
    {
      "cell_type": "code",
      "metadata": {
        "id": "bDKNXaL1NVif"
      },
      "source": [
        "if CUSTOM_DATASET_FLAG:\n",
        "  data = []\n",
        "\n",
        "  for folder in training_data_folders:\n",
        "      image_list = os.listdir(f\"dataset/training/{folder}\")\n",
        "      for image in image_list:\n",
        "          temp_arr = [image, folder, \"train\"]\n",
        "          data.append(temp_arr)\n",
        "\n",
        "  for folder in test_data_folders:\n",
        "      image_list = os.listdir(f\"dataset/testing/{folder}\")\n",
        "      for image in image_list:\n",
        "          temp_arr = [image, folder, \"test\"]\n",
        "          data.append(temp_arr)\n",
        "\n",
        "  df = pd.DataFrame(data, columns=[\"file_name\", \"label\", \"data_type\"])\n",
        "  display(df.head())\n",
        "  display(df.tail())\n",
        "  df.to_csv(\"annotations.csv\", index=False, header=True)"
      ],
      "execution_count": 4,
      "outputs": []
    },
    {
      "cell_type": "markdown",
      "metadata": {
        "id": "pXOZBYWhNVig"
      },
      "source": [
        "### Custom PyTorch Dataset Creation"
      ]
    },
    {
      "cell_type": "code",
      "metadata": {
        "id": "0EdWfI-MNVih"
      },
      "source": [
        "if CUSTOM_DATASET_FLAG:\n",
        "  class mnistDataset(torch.utils.data.Dataset):\n",
        "      def __init__(self, root, annotations_file, train=True, transform=None, target_transform=None):\n",
        "          self.root = root\n",
        "          self.labels = pd.read_csv(annotations_file)\n",
        "          self.train = train\n",
        "          self.transform = transform\n",
        "          self.target_transform = target_transform\n",
        "\n",
        "          if self.train:\n",
        "              self.root = os.path.join(self.root, \"training\")\n",
        "              self.labels = self.labels[self.labels[\"data_type\"] == \"train\"]\n",
        "          else:\n",
        "              self.root = os.path.join(self.root, \"testing\")\n",
        "              self.labels = self.labels[self.labels[\"data_type\"] == \"test\"]\n",
        "      \n",
        "      def __len__(self):\n",
        "          return len(self.labels)\n",
        "      \n",
        "      def __getitem__(self, index):\n",
        "          image_path = os.path.join(self.root, str(self.labels.iloc[index, 1]), self.labels.iloc[index, 0])\n",
        "          image = Image.open(image_path)\n",
        "          label = self.labels.iloc[index, 1]\n",
        "          if self.transform:\n",
        "              image = self.transform(image)\n",
        "          if self.target_transform:\n",
        "              label = self.target_transform(label)\n",
        "          return image, label\n",
        "          \n",
        "  composed_transform = transforms.Compose([\n",
        "      transforms.ToTensor()\n",
        "  ])\n",
        "\n",
        "  training_dataset = mnistDataset(\"dataset\", \"annotations.csv\", train=True, transform=composed_transform, target_transform=None)\n",
        "  test_dataset = mnistDataset(\"dataset\", \"annotations.csv\", train=False, transform=composed_transform, target_transform=None)\n",
        "\n",
        "  train_loader = DataLoader(dataset=training_dataset, batch_size=32)\n",
        "  test_loader = DataLoader(dataset=test_dataset, batch_size=32)\n",
        "\n",
        "  print(training_dataset.__getitem__(0))\n",
        "  print(training_dataset.__len__())"
      ],
      "execution_count": 5,
      "outputs": []
    },
    {
      "cell_type": "markdown",
      "metadata": {
        "id": "Sj2RUFcoR_RM"
      },
      "source": [
        "## Dataset Creation with PyTorch Datasets\n",
        "\n",
        "Since MNIST is already available under PyTorch datasets, this may be the easier way work with this data, either locally or on Colab."
      ]
    },
    {
      "cell_type": "code",
      "metadata": {
        "colab": {
          "base_uri": "https://localhost:8080/"
        },
        "id": "s1yqctJISG1m",
        "outputId": "3baad930-f859-42bd-830b-169bcf6d1a0b"
      },
      "source": [
        "if not CUSTOM_DATASET_FLAG:\n",
        "  # Add more transforms if necessary, eg. normalization\n",
        "  composed_transforms = transforms.Compose([transforms.ToTensor()])\n",
        "  \n",
        "  data_dir = \"data\"\n",
        "  if data_dir not in os.listdir(os.getcwd()):\n",
        "    os.mkdir(data_dir)\n",
        "\n",
        "  training_dataset = datasets.MNIST(root=data_dir, download=True, train=True, transform=composed_transforms)\n",
        "  testing_dataset = datasets.MNIST(root=data_dir, download=True, train=False, transform=composed_transforms)\n",
        "\n",
        "  train_loader = DataLoader(dataset=training_dataset, batch_size=32, shuffle=True)\n",
        "  test_loader = DataLoader(dataset=testing_dataset, batch_size=32)\n",
        "\n",
        "  print(training_dataset.__len__())\n",
        "  print(testing_dataset.__len__())"
      ],
      "execution_count": 6,
      "outputs": [
        {
          "output_type": "stream",
          "name": "stdout",
          "text": [
            "60000\n",
            "10000\n"
          ]
        },
        {
          "output_type": "stream",
          "name": "stderr",
          "text": [
            "/usr/local/lib/python3.7/dist-packages/torchvision/datasets/mnist.py:498: UserWarning: The given NumPy array is not writeable, and PyTorch does not support non-writeable tensors. This means you can write to the underlying (supposedly non-writeable) NumPy array using the tensor. You may want to copy the array to protect its data or make it writeable before converting it to a tensor. This type of warning will be suppressed for the rest of this program. (Triggered internally at  /pytorch/torch/csrc/utils/tensor_numpy.cpp:180.)\n",
            "  return torch.from_numpy(parsed.astype(m[2], copy=False)).view(*s)\n"
          ]
        }
      ]
    },
    {
      "cell_type": "markdown",
      "metadata": {
        "id": "rb5qlAYKNVij"
      },
      "source": [
        "## Model Finetuning"
      ]
    },
    {
      "cell_type": "code",
      "metadata": {
        "id": "SvJNBtmNNVik",
        "colab": {
          "base_uri": "https://localhost:8080/"
        },
        "outputId": "c7127cbf-1ed1-4598-d505-f2fc7b283ff9"
      },
      "source": [
        "model = models.resnet18(pretrained=False)\n",
        "\n",
        "# Change the input layer to for a single channel image instead of 3\n",
        "model.conv1 = nn.Conv2d(1, 64, kernel_size=(7, 7), stride=(2, 2), padding=(3, 3), bias=False)\n",
        "\n",
        "# Change the final fully connected layer.\n",
        "num_features = model.fc.in_features\n",
        "model.fc = nn.Linear(num_features, 10)\n",
        "\n",
        "loss_function = nn.CrossEntropyLoss()\n",
        "optimizer = optim.Adam(model.parameters(), lr=0.003)\n",
        "model.to(device)"
      ],
      "execution_count": 7,
      "outputs": [
        {
          "output_type": "execute_result",
          "data": {
            "text/plain": [
              "ResNet(\n",
              "  (conv1): Conv2d(1, 64, kernel_size=(7, 7), stride=(2, 2), padding=(3, 3), bias=False)\n",
              "  (bn1): BatchNorm2d(64, eps=1e-05, momentum=0.1, affine=True, track_running_stats=True)\n",
              "  (relu): ReLU(inplace=True)\n",
              "  (maxpool): MaxPool2d(kernel_size=3, stride=2, padding=1, dilation=1, ceil_mode=False)\n",
              "  (layer1): Sequential(\n",
              "    (0): BasicBlock(\n",
              "      (conv1): Conv2d(64, 64, kernel_size=(3, 3), stride=(1, 1), padding=(1, 1), bias=False)\n",
              "      (bn1): BatchNorm2d(64, eps=1e-05, momentum=0.1, affine=True, track_running_stats=True)\n",
              "      (relu): ReLU(inplace=True)\n",
              "      (conv2): Conv2d(64, 64, kernel_size=(3, 3), stride=(1, 1), padding=(1, 1), bias=False)\n",
              "      (bn2): BatchNorm2d(64, eps=1e-05, momentum=0.1, affine=True, track_running_stats=True)\n",
              "    )\n",
              "    (1): BasicBlock(\n",
              "      (conv1): Conv2d(64, 64, kernel_size=(3, 3), stride=(1, 1), padding=(1, 1), bias=False)\n",
              "      (bn1): BatchNorm2d(64, eps=1e-05, momentum=0.1, affine=True, track_running_stats=True)\n",
              "      (relu): ReLU(inplace=True)\n",
              "      (conv2): Conv2d(64, 64, kernel_size=(3, 3), stride=(1, 1), padding=(1, 1), bias=False)\n",
              "      (bn2): BatchNorm2d(64, eps=1e-05, momentum=0.1, affine=True, track_running_stats=True)\n",
              "    )\n",
              "  )\n",
              "  (layer2): Sequential(\n",
              "    (0): BasicBlock(\n",
              "      (conv1): Conv2d(64, 128, kernel_size=(3, 3), stride=(2, 2), padding=(1, 1), bias=False)\n",
              "      (bn1): BatchNorm2d(128, eps=1e-05, momentum=0.1, affine=True, track_running_stats=True)\n",
              "      (relu): ReLU(inplace=True)\n",
              "      (conv2): Conv2d(128, 128, kernel_size=(3, 3), stride=(1, 1), padding=(1, 1), bias=False)\n",
              "      (bn2): BatchNorm2d(128, eps=1e-05, momentum=0.1, affine=True, track_running_stats=True)\n",
              "      (downsample): Sequential(\n",
              "        (0): Conv2d(64, 128, kernel_size=(1, 1), stride=(2, 2), bias=False)\n",
              "        (1): BatchNorm2d(128, eps=1e-05, momentum=0.1, affine=True, track_running_stats=True)\n",
              "      )\n",
              "    )\n",
              "    (1): BasicBlock(\n",
              "      (conv1): Conv2d(128, 128, kernel_size=(3, 3), stride=(1, 1), padding=(1, 1), bias=False)\n",
              "      (bn1): BatchNorm2d(128, eps=1e-05, momentum=0.1, affine=True, track_running_stats=True)\n",
              "      (relu): ReLU(inplace=True)\n",
              "      (conv2): Conv2d(128, 128, kernel_size=(3, 3), stride=(1, 1), padding=(1, 1), bias=False)\n",
              "      (bn2): BatchNorm2d(128, eps=1e-05, momentum=0.1, affine=True, track_running_stats=True)\n",
              "    )\n",
              "  )\n",
              "  (layer3): Sequential(\n",
              "    (0): BasicBlock(\n",
              "      (conv1): Conv2d(128, 256, kernel_size=(3, 3), stride=(2, 2), padding=(1, 1), bias=False)\n",
              "      (bn1): BatchNorm2d(256, eps=1e-05, momentum=0.1, affine=True, track_running_stats=True)\n",
              "      (relu): ReLU(inplace=True)\n",
              "      (conv2): Conv2d(256, 256, kernel_size=(3, 3), stride=(1, 1), padding=(1, 1), bias=False)\n",
              "      (bn2): BatchNorm2d(256, eps=1e-05, momentum=0.1, affine=True, track_running_stats=True)\n",
              "      (downsample): Sequential(\n",
              "        (0): Conv2d(128, 256, kernel_size=(1, 1), stride=(2, 2), bias=False)\n",
              "        (1): BatchNorm2d(256, eps=1e-05, momentum=0.1, affine=True, track_running_stats=True)\n",
              "      )\n",
              "    )\n",
              "    (1): BasicBlock(\n",
              "      (conv1): Conv2d(256, 256, kernel_size=(3, 3), stride=(1, 1), padding=(1, 1), bias=False)\n",
              "      (bn1): BatchNorm2d(256, eps=1e-05, momentum=0.1, affine=True, track_running_stats=True)\n",
              "      (relu): ReLU(inplace=True)\n",
              "      (conv2): Conv2d(256, 256, kernel_size=(3, 3), stride=(1, 1), padding=(1, 1), bias=False)\n",
              "      (bn2): BatchNorm2d(256, eps=1e-05, momentum=0.1, affine=True, track_running_stats=True)\n",
              "    )\n",
              "  )\n",
              "  (layer4): Sequential(\n",
              "    (0): BasicBlock(\n",
              "      (conv1): Conv2d(256, 512, kernel_size=(3, 3), stride=(2, 2), padding=(1, 1), bias=False)\n",
              "      (bn1): BatchNorm2d(512, eps=1e-05, momentum=0.1, affine=True, track_running_stats=True)\n",
              "      (relu): ReLU(inplace=True)\n",
              "      (conv2): Conv2d(512, 512, kernel_size=(3, 3), stride=(1, 1), padding=(1, 1), bias=False)\n",
              "      (bn2): BatchNorm2d(512, eps=1e-05, momentum=0.1, affine=True, track_running_stats=True)\n",
              "      (downsample): Sequential(\n",
              "        (0): Conv2d(256, 512, kernel_size=(1, 1), stride=(2, 2), bias=False)\n",
              "        (1): BatchNorm2d(512, eps=1e-05, momentum=0.1, affine=True, track_running_stats=True)\n",
              "      )\n",
              "    )\n",
              "    (1): BasicBlock(\n",
              "      (conv1): Conv2d(512, 512, kernel_size=(3, 3), stride=(1, 1), padding=(1, 1), bias=False)\n",
              "      (bn1): BatchNorm2d(512, eps=1e-05, momentum=0.1, affine=True, track_running_stats=True)\n",
              "      (relu): ReLU(inplace=True)\n",
              "      (conv2): Conv2d(512, 512, kernel_size=(3, 3), stride=(1, 1), padding=(1, 1), bias=False)\n",
              "      (bn2): BatchNorm2d(512, eps=1e-05, momentum=0.1, affine=True, track_running_stats=True)\n",
              "    )\n",
              "  )\n",
              "  (avgpool): AdaptiveAvgPool2d(output_size=(1, 1))\n",
              "  (fc): Linear(in_features=512, out_features=10, bias=True)\n",
              ")"
            ]
          },
          "metadata": {},
          "execution_count": 7
        }
      ]
    },
    {
      "cell_type": "markdown",
      "metadata": {
        "id": "6jVonxesNVil"
      },
      "source": [
        "## Model Training"
      ]
    },
    {
      "cell_type": "code",
      "metadata": {
        "id": "r0SG6F5VNVil",
        "colab": {
          "base_uri": "https://localhost:8080/"
        },
        "outputId": "fb95ec3d-01da-456b-9771-8585523e8b5a"
      },
      "source": [
        "def train_loop(epoch, train_loader, model, loss_function, optimizer):\n",
        "    model.train()\n",
        "\n",
        "    batch_size = len(train_loader)\n",
        "    training_size = len(train_loader.dataset)\n",
        "    training_loss = 0\n",
        "    correct = 0\n",
        "\n",
        "    with tqdm(train_loader, position=0, leave=True, unit=\"batch\") as train_batch:\n",
        "        train_batch.set_description(f\"Epoch: {epoch} --------------------\")\n",
        "        for data in train_batch:\n",
        "            # Compute prediction and loss\n",
        "            inputs, labels = data\n",
        "            inputs = inputs.to(device)\n",
        "            labels = labels.to(device)\n",
        "\n",
        "            predictions = model(inputs)\n",
        "            loss = loss_function(predictions, labels)\n",
        "            training_loss += loss.item()\n",
        "\n",
        "            _, predicted_labels = predictions.max(1)\n",
        "            correct += predicted_labels.eq(labels).sum().item()\n",
        "\n",
        "            # Backpropagation\n",
        "            optimizer.zero_grad()\n",
        "            loss.backward()\n",
        "            optimizer.step()\n",
        "        \n",
        "    train_accuracy = correct / training_size\n",
        "    average_train_loss = training_loss / batch_size\n",
        "\n",
        "    print(f\"Train Loss: {round(average_train_loss, 3)}  |   Train Accuracy: {round(train_accuracy, 3)}\")\n",
        "\n",
        "    return average_train_loss, train_accuracy\n",
        "\n",
        "\n",
        "def test_loop(epoch, test_loader, model, loss_function):\n",
        "    model.eval()\n",
        "\n",
        "    batch_size = len(test_loader)\n",
        "    test_size = len(test_loader.dataset)\n",
        "    test_loss, correct = 0, 0\n",
        "\n",
        "    with torch.no_grad():\n",
        "        for data in test_loader:\n",
        "            inputs, labels = data\n",
        "            inputs = inputs.to(device)\n",
        "            labels = labels.to(device)\n",
        "\n",
        "            outputs = model(inputs)\n",
        "            test_loss += loss_function(outputs, labels).item()\n",
        "            correct += (outputs.argmax(1) == labels).type(torch.float).sum().item()\n",
        "\n",
        "    average_test_loss = test_loss / batch_size\n",
        "    test_accuracy = correct / test_size\n",
        "\n",
        "    print(f\"Test Loss: {round(average_test_loss, 3)}    |   Test Accuracy: {round(test_accuracy, 3)}\")\n",
        "\n",
        "    return average_test_loss, test_accuracy\n",
        "\n",
        "train_loss_list = []\n",
        "test_loss_list = []\n",
        "train_accuracy_list = []\n",
        "test_accuracy_list = []\n",
        "\n",
        "epochs = 5\n",
        "for epoch in range(1, epochs+1):\n",
        "    average_train_loss, train_accuracy = train_loop(epoch, train_loader, model, loss_function, optimizer)\n",
        "    average_test_loss, test_accuracy = test_loop(epoch, test_loader, model, loss_function)\n",
        "\n",
        "    train_loss_list.append(average_train_loss)\n",
        "    test_loss_list.append(average_test_loss)\n",
        "    train_accuracy_list.append(train_accuracy)\n",
        "    test_accuracy_list.append(test_accuracy)"
      ],
      "execution_count": 8,
      "outputs": [
        {
          "output_type": "stream",
          "name": "stderr",
          "text": [
            "Epoch: 1 --------------------:   0%|          | 0/1875 [00:00<?, ?batch/s]/usr/local/lib/python3.7/dist-packages/torch/nn/functional.py:718: UserWarning: Named tensors and all their associated APIs are an experimental feature and subject to change. Please do not use them for anything important until they are released as stable. (Triggered internally at  /pytorch/c10/core/TensorImpl.h:1156.)\n",
            "  return torch.max_pool2d(input, kernel_size, stride, padding, dilation, ceil_mode)\n",
            "Epoch: 1 --------------------: 100%|██████████| 1875/1875 [01:27<00:00, 21.43batch/s]\n"
          ]
        },
        {
          "output_type": "stream",
          "name": "stdout",
          "text": [
            "Train Loss: 0.175  |   Train Accuracy: 0.949\n",
            "Test Loss: 0.158    |   Test Accuracy: 0.956\n"
          ]
        },
        {
          "output_type": "stream",
          "name": "stderr",
          "text": [
            "Epoch: 2 --------------------: 100%|██████████| 1875/1875 [01:28<00:00, 21.28batch/s]\n"
          ]
        },
        {
          "output_type": "stream",
          "name": "stdout",
          "text": [
            "Train Loss: 0.079  |   Train Accuracy: 0.978\n",
            "Test Loss: 0.055    |   Test Accuracy: 0.986\n"
          ]
        },
        {
          "output_type": "stream",
          "name": "stderr",
          "text": [
            "Epoch: 3 --------------------: 100%|██████████| 1875/1875 [01:27<00:00, 21.31batch/s]\n"
          ]
        },
        {
          "output_type": "stream",
          "name": "stdout",
          "text": [
            "Train Loss: 0.059  |   Train Accuracy: 0.984\n",
            "Test Loss: 0.037    |   Test Accuracy: 0.989\n"
          ]
        },
        {
          "output_type": "stream",
          "name": "stderr",
          "text": [
            "Epoch: 4 --------------------: 100%|██████████| 1875/1875 [01:27<00:00, 21.39batch/s]\n"
          ]
        },
        {
          "output_type": "stream",
          "name": "stdout",
          "text": [
            "Train Loss: 0.051  |   Train Accuracy: 0.986\n",
            "Test Loss: 0.037    |   Test Accuracy: 0.989\n"
          ]
        },
        {
          "output_type": "stream",
          "name": "stderr",
          "text": [
            "Epoch: 5 --------------------: 100%|██████████| 1875/1875 [01:28<00:00, 21.29batch/s]\n"
          ]
        },
        {
          "output_type": "stream",
          "name": "stdout",
          "text": [
            "Train Loss: 0.038  |   Train Accuracy: 0.989\n",
            "Test Loss: 0.03    |   Test Accuracy: 0.992\n"
          ]
        }
      ]
    },
    {
      "cell_type": "markdown",
      "metadata": {
        "id": "NCeVpQaHiGAI"
      },
      "source": [
        "## Plot Learning Curves"
      ]
    },
    {
      "cell_type": "code",
      "metadata": {
        "colab": {
          "base_uri": "https://localhost:8080/",
          "height": 350
        },
        "id": "AhD2Tx0mht1a",
        "outputId": "a10b7fd1-148e-4764-be92-4409a08e0870"
      },
      "source": [
        "figure = plt.figure(figsize=(10,5))\n",
        "\n",
        "epoch_axis = [i for i in range(1, epochs + 1)]\n",
        "\n",
        "plt.subplot(1, 2, 1)\n",
        "plt.plot(epoch_axis, train_loss_list)\n",
        "plt.plot(epoch_axis, test_loss_list)\n",
        "plt.xlabel(\"Epochs\")\n",
        "plt.ylabel(\"Loss\")\n",
        "plt.title(\"Loss Curve\")\n",
        "\n",
        "plt.subplot(1, 2, 2)\n",
        "plt.plot(epoch_axis, train_accuracy_list)\n",
        "plt.plot(epoch_axis, test_accuracy_list)\n",
        "plt.xlabel(\"Epochs\")\n",
        "plt.ylabel(\"Accuracy\")\n",
        "plt.title(\"Accuracy Curve\")\n",
        "plt.show()"
      ],
      "execution_count": 9,
      "outputs": [
        {
          "output_type": "display_data",
          "data": {
            "image/png": "[encoded data removed]",
            "text/plain": [
              "<Figure size 720x360 with 2 Axes>"
            ]
          },
          "metadata": {
            "needs_background": "light"
          }
        }
      ]
    },
    {
      "cell_type": "markdown",
      "metadata": {
        "id": "MlzeE70TXQys"
      },
      "source": [
        "## Make Batch Predictions and Generate Additional Metrics"
      ]
    },
    {
      "cell_type": "code",
      "metadata": {
        "colab": {
          "base_uri": "https://localhost:8080/",
          "height": 578
        },
        "id": "0gSjtKcuXP1L",
        "outputId": "32d90d9f-80d3-4afa-a660-6cb292c72318"
      },
      "source": [
        "y_true = []\n",
        "y_pred = []\n",
        "\n",
        "for _, labels in test_loader:\n",
        "  y_true.extend(labels.numpy())\n",
        "\n",
        "with torch.no_grad():\n",
        "  for inputs, labels in test_loader:\n",
        "    inputs = inputs.to(device)\n",
        "    outputs = model(inputs)\n",
        "    labels = outputs.argmax(1).cpu().numpy()\n",
        "    y_pred.extend(labels)\n",
        "\n",
        "labels = [\"0\",\"1\",\"2\",\"3\",\"4\",\"5\",\"6\",\"7\",\"8\",\"9\"]\n",
        "classification_report = classification_report(y_true, y_pred)\n",
        "cm = confusion_matrix(y_true, y_pred)\n",
        "disp = ConfusionMatrixDisplay(cm, display_labels=labels)\n",
        "\n",
        "print(classification_report)\n",
        "disp.plot()\n",
        "plt.show()"
      ],
      "execution_count": 10,
      "outputs": [
        {
          "output_type": "stream",
          "name": "stdout",
          "text": [
            "              precision    recall  f1-score   support\n",
            "\n",
            "           0       0.99      1.00      0.99       980\n",
            "           1       1.00      0.99      1.00      1135\n",
            "           2       0.99      0.99      0.99      1032\n",
            "           3       0.98      1.00      0.99      1010\n",
            "           4       0.99      1.00      0.99       982\n",
            "           5       0.99      0.98      0.99       892\n",
            "           6       0.99      0.99      0.99       958\n",
            "           7       0.99      0.99      0.99      1028\n",
            "           8       0.99      0.99      0.99       974\n",
            "           9       0.99      0.98      0.99      1009\n",
            "\n",
            "    accuracy                           0.99     10000\n",
            "   macro avg       0.99      0.99      0.99     10000\n",
            "weighted avg       0.99      0.99      0.99     10000\n",
            "\n"
          ]
        },
        {
          "output_type": "display_data",
          "data": {
            "image/png": "[encoded data removed]",
            "text/plain": [
              "<Figure size 432x288 with 2 Axes>"
            ]
          },
          "metadata": {
            "needs_background": "light"
          }
        }
      ]
    },
    {
      "cell_type": "markdown",
      "metadata": {
        "id": "yMINcwEWcvHs"
      },
      "source": [
        "## Save Model"
      ]
    },
    {
      "cell_type": "code",
      "metadata": {
        "id": "qSn3goqni7bC"
      },
      "source": [
        "torch.save(model, \"model_091021_v2.pth\")"
      ],
      "execution_count": 12,
      "outputs": []
    }
  ]
}